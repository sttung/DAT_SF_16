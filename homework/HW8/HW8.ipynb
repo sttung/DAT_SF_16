{
 "cells": [
  {
   "cell_type": "markdown",
   "metadata": {},
   "source": [
    "# HW 8"
   ]
  },
  {
   "cell_type": "code",
   "execution_count": 2,
   "metadata": {
    "collapsed": true
   },
   "outputs": [],
   "source": [
    "import pandas as pd\n",
    "import numpy as np\n"
   ]
  },
  {
   "cell_type": "code",
   "execution_count": 3,
   "metadata": {
    "collapsed": false,
    "scrolled": true
   },
   "outputs": [
    {
     "name": "stdout",
     "output_type": "stream",
     "text": [
      "<class 'pandas.core.frame.DataFrame'>\n",
      "Int64Index: 1149780 entries, 0 to 1149779\n",
      "Data columns (total 3 columns):\n",
      "﻿User-ID       1149780 non-null int64\n",
      "ISBN           1149780 non-null object\n",
      "Book-Rating    1149780 non-null int64\n",
      "dtypes: int64(2), object(1)\n",
      "memory usage: 35.1+ MB\n"
     ]
    }
   ],
   "source": [
    "# Import the BX-Book-Ratings file - specify that the delimiter is a semicolon, not a comma. \n",
    "bkratings = pd.read_csv(\"BX-Book-Ratings.csv\", sep=';')\n",
    "# Check import\n",
    "bkratings.head()\n",
    "bkratings.info()\n",
    "\n",
    "# Content description:\n",
    "# User ID, ISBN of book reviewed, book rating."
   ]
  },
  {
   "cell_type": "code",
   "execution_count": 4,
   "metadata": {
    "collapsed": false,
    "scrolled": false
   },
   "outputs": [
    {
     "name": "stdout",
     "output_type": "stream",
     "text": [
      "<class 'pandas.core.frame.DataFrame'>\n",
      "Int64Index: 271379 entries, 0 to 271378\n",
      "Data columns (total 8 columns):\n",
      "ISBN                   271379 non-null object\n",
      "Book-Title             271379 non-null object\n",
      "Book-Author            271379 non-null object\n",
      "Year-Of-Publication    271379 non-null int64\n",
      "Publisher              271377 non-null object\n",
      "Image-URL-S            271379 non-null object\n",
      "Image-URL-M            271379 non-null object\n",
      "Image-URL-L            271379 non-null object\n",
      "dtypes: int64(1), object(7)\n",
      "memory usage: 18.6+ MB\n"
     ]
    },
    {
     "name": "stderr",
     "output_type": "stream",
     "text": [
      "c:\\Users\\Admin\\Anaconda\\lib\\site-packages\\pandas\\io\\parsers.py:648: ParserWarning: Falling back to the 'python' engine because the 'c' engine does not support regex separators; you can avoid this warning by specifying engine='python'.\n",
      "  ParserWarning)\n"
     ]
    }
   ],
   "source": [
    "# Import the books file, use \",\" as the delimiter otherwise it doesn't import correctly.\n",
    "bktitles = pd.read_csv(\"BX-Books.csv\", sep='\";\"')\n",
    "# Because of the delimiter, we have a leading quote. Rename the first column (ISBN)\n",
    "bktitles.rename(columns={'\"ISBN':'ISBN','Image-URL-L\"':'Image-URL-L' }, inplace=True)\n",
    "# Strip the leading quote from the ISBN column. \n",
    "bktitles['ISBN'] = bktitles['ISBN'].apply(lambda x:x.strip('\"'))\n",
    "# Check data import\n",
    "bktitles.head()\n",
    "bktitles.info()\n",
    "\n",
    "# Content description:\n",
    "# ISBN, book title, author, year of publication, publisher, book image URLs (3 sizes - small, med, large)"
   ]
  },
  {
   "cell_type": "code",
   "execution_count": 5,
   "metadata": {
    "collapsed": false
   },
   "outputs": [],
   "source": [
    "# Zip the ISBN & book titles together into a dictionary\n",
    "# # We do this because we want to be able to just reference the books - not have to look up books using ISBNs each time\n",
    "# bkdict = dict(zip(bktitles['ISBN'], bktitles['Book-Title']))\n",
    "# print bkdict"
   ]
  },
  {
   "cell_type": "code",
   "execution_count": 6,
   "metadata": {
    "collapsed": false
   },
   "outputs": [
    {
     "data": {
      "text/html": [
       "<div>\n",
       "<table border=\"1\" class=\"dataframe\">\n",
       "  <thead>\n",
       "    <tr style=\"text-align: right;\">\n",
       "      <th></th>\n",
       "      <th>User-ID</th>\n",
       "      <th>Location</th>\n",
       "      <th>Age</th>\n",
       "    </tr>\n",
       "  </thead>\n",
       "  <tbody>\n",
       "    <tr>\n",
       "      <th>0</th>\n",
       "      <td>1</td>\n",
       "      <td>nyc, new york, usa</td>\n",
       "      <td>NaN</td>\n",
       "    </tr>\n",
       "    <tr>\n",
       "      <th>1</th>\n",
       "      <td>2</td>\n",
       "      <td>stockton, california, usa</td>\n",
       "      <td>18</td>\n",
       "    </tr>\n",
       "    <tr>\n",
       "      <th>2</th>\n",
       "      <td>3</td>\n",
       "      <td>moscow, yukon territory, russia</td>\n",
       "      <td>NaN</td>\n",
       "    </tr>\n",
       "    <tr>\n",
       "      <th>3</th>\n",
       "      <td>4</td>\n",
       "      <td>porto, v.n.gaia, portugal</td>\n",
       "      <td>17</td>\n",
       "    </tr>\n",
       "    <tr>\n",
       "      <th>4</th>\n",
       "      <td>5</td>\n",
       "      <td>farnborough, hants, united kingdom</td>\n",
       "      <td>NaN</td>\n",
       "    </tr>\n",
       "  </tbody>\n",
       "</table>\n",
       "</div>"
      ],
      "text/plain": [
       "   User-ID                            Location  Age\n",
       "0        1                  nyc, new york, usa  NaN\n",
       "1        2           stockton, california, usa   18\n",
       "2        3     moscow, yukon territory, russia  NaN\n",
       "3        4           porto, v.n.gaia, portugal   17\n",
       "4        5  farnborough, hants, united kingdom  NaN"
      ]
     },
     "execution_count": 6,
     "metadata": {},
     "output_type": "execute_result"
    }
   ],
   "source": [
    "# Import the book review users file\n",
    "bkauthors = pd.read_csv(\"BX-Users.csv\", sep=';', quotechar='\"')\n",
    "bkauthors.head()\n",
    "\n",
    "# Content description:\n",
    "# User ID, user location, age\n"
   ]
  },
  {
   "cell_type": "code",
   "execution_count": 7,
   "metadata": {
    "collapsed": false
   },
   "outputs": [
    {
     "name": "stdout",
     "output_type": "stream",
     "text": [
      "<class 'pandas.core.frame.DataFrame'>\n",
      "Int64Index: 1031175 entries, 0 to 1031174\n",
      "Data columns (total 10 columns):\n",
      "﻿User-ID               1031175 non-null int64\n",
      "ISBN                   1031175 non-null object\n",
      "Book-Rating            1031175 non-null int64\n",
      "Book-Title             1031175 non-null object\n",
      "Book-Author            1031175 non-null object\n",
      "Year-Of-Publication    1031175 non-null int64\n",
      "Publisher              1031173 non-null object\n",
      "Image-URL-S            1031175 non-null object\n",
      "Image-URL-M            1031175 non-null object\n",
      "Image-URL-L            1031175 non-null object\n",
      "dtypes: int64(3), object(7)\n",
      "memory usage: 86.5+ MB\n"
     ]
    },
    {
     "data": {
      "text/html": [
       "<div>\n",
       "<table border=\"1\" class=\"dataframe\">\n",
       "  <thead>\n",
       "    <tr style=\"text-align: right;\">\n",
       "      <th></th>\n",
       "      <th>﻿User-ID</th>\n",
       "      <th>ISBN</th>\n",
       "      <th>Book-Rating</th>\n",
       "      <th>Book-Title</th>\n",
       "      <th>Book-Author</th>\n",
       "      <th>Year-Of-Publication</th>\n",
       "      <th>Publisher</th>\n",
       "      <th>Image-URL-S</th>\n",
       "      <th>Image-URL-M</th>\n",
       "      <th>Image-URL-L</th>\n",
       "    </tr>\n",
       "  </thead>\n",
       "  <tbody>\n",
       "    <tr>\n",
       "      <th>0</th>\n",
       "      <td>276725</td>\n",
       "      <td>034545104X</td>\n",
       "      <td>0</td>\n",
       "      <td>Flesh Tones: A Novel</td>\n",
       "      <td>M. J. Rose</td>\n",
       "      <td>2002</td>\n",
       "      <td>Ballantine Books</td>\n",
       "      <td>http://images.amazon.com/images/P/034545104X.0...</td>\n",
       "      <td>http://images.amazon.com/images/P/034545104X.0...</td>\n",
       "      <td>http://images.amazon.com/images/P/034545104X.0...</td>\n",
       "    </tr>\n",
       "    <tr>\n",
       "      <th>1</th>\n",
       "      <td>2313</td>\n",
       "      <td>034545104X</td>\n",
       "      <td>5</td>\n",
       "      <td>Flesh Tones: A Novel</td>\n",
       "      <td>M. J. Rose</td>\n",
       "      <td>2002</td>\n",
       "      <td>Ballantine Books</td>\n",
       "      <td>http://images.amazon.com/images/P/034545104X.0...</td>\n",
       "      <td>http://images.amazon.com/images/P/034545104X.0...</td>\n",
       "      <td>http://images.amazon.com/images/P/034545104X.0...</td>\n",
       "    </tr>\n",
       "    <tr>\n",
       "      <th>2</th>\n",
       "      <td>6543</td>\n",
       "      <td>034545104X</td>\n",
       "      <td>0</td>\n",
       "      <td>Flesh Tones: A Novel</td>\n",
       "      <td>M. J. Rose</td>\n",
       "      <td>2002</td>\n",
       "      <td>Ballantine Books</td>\n",
       "      <td>http://images.amazon.com/images/P/034545104X.0...</td>\n",
       "      <td>http://images.amazon.com/images/P/034545104X.0...</td>\n",
       "      <td>http://images.amazon.com/images/P/034545104X.0...</td>\n",
       "    </tr>\n",
       "    <tr>\n",
       "      <th>3</th>\n",
       "      <td>8680</td>\n",
       "      <td>034545104X</td>\n",
       "      <td>5</td>\n",
       "      <td>Flesh Tones: A Novel</td>\n",
       "      <td>M. J. Rose</td>\n",
       "      <td>2002</td>\n",
       "      <td>Ballantine Books</td>\n",
       "      <td>http://images.amazon.com/images/P/034545104X.0...</td>\n",
       "      <td>http://images.amazon.com/images/P/034545104X.0...</td>\n",
       "      <td>http://images.amazon.com/images/P/034545104X.0...</td>\n",
       "    </tr>\n",
       "    <tr>\n",
       "      <th>4</th>\n",
       "      <td>10314</td>\n",
       "      <td>034545104X</td>\n",
       "      <td>9</td>\n",
       "      <td>Flesh Tones: A Novel</td>\n",
       "      <td>M. J. Rose</td>\n",
       "      <td>2002</td>\n",
       "      <td>Ballantine Books</td>\n",
       "      <td>http://images.amazon.com/images/P/034545104X.0...</td>\n",
       "      <td>http://images.amazon.com/images/P/034545104X.0...</td>\n",
       "      <td>http://images.amazon.com/images/P/034545104X.0...</td>\n",
       "    </tr>\n",
       "  </tbody>\n",
       "</table>\n",
       "</div>"
      ],
      "text/plain": [
       "   ﻿User-ID        ISBN  Book-Rating            Book-Title Book-Author  \\\n",
       "0    276725  034545104X            0  Flesh Tones: A Novel  M. J. Rose   \n",
       "1      2313  034545104X            5  Flesh Tones: A Novel  M. J. Rose   \n",
       "2      6543  034545104X            0  Flesh Tones: A Novel  M. J. Rose   \n",
       "3      8680  034545104X            5  Flesh Tones: A Novel  M. J. Rose   \n",
       "4     10314  034545104X            9  Flesh Tones: A Novel  M. J. Rose   \n",
       "\n",
       "   Year-Of-Publication         Publisher  \\\n",
       "0                 2002  Ballantine Books   \n",
       "1                 2002  Ballantine Books   \n",
       "2                 2002  Ballantine Books   \n",
       "3                 2002  Ballantine Books   \n",
       "4                 2002  Ballantine Books   \n",
       "\n",
       "                                         Image-URL-S  \\\n",
       "0  http://images.amazon.com/images/P/034545104X.0...   \n",
       "1  http://images.amazon.com/images/P/034545104X.0...   \n",
       "2  http://images.amazon.com/images/P/034545104X.0...   \n",
       "3  http://images.amazon.com/images/P/034545104X.0...   \n",
       "4  http://images.amazon.com/images/P/034545104X.0...   \n",
       "\n",
       "                                         Image-URL-M  \\\n",
       "0  http://images.amazon.com/images/P/034545104X.0...   \n",
       "1  http://images.amazon.com/images/P/034545104X.0...   \n",
       "2  http://images.amazon.com/images/P/034545104X.0...   \n",
       "3  http://images.amazon.com/images/P/034545104X.0...   \n",
       "4  http://images.amazon.com/images/P/034545104X.0...   \n",
       "\n",
       "                                         Image-URL-L  \n",
       "0  http://images.amazon.com/images/P/034545104X.0...  \n",
       "1  http://images.amazon.com/images/P/034545104X.0...  \n",
       "2  http://images.amazon.com/images/P/034545104X.0...  \n",
       "3  http://images.amazon.com/images/P/034545104X.0...  \n",
       "4  http://images.amazon.com/images/P/034545104X.0...  "
      ]
     },
     "execution_count": 7,
     "metadata": {},
     "output_type": "execute_result"
    }
   ],
   "source": [
    "# Create dataframe that joins the reviews & book information columns together, on the ISBN column\n",
    "# Drop extra columns that we are not using\n",
    "merged_bks = pd.merge(bkratings, bktitles, how='inner', on='ISBN')\n",
    "merged_bks.info()\n",
    "\n",
    "# In case we wanted to drop extraneous columns - code below. \n",
    "# .drop(['Book-Author', 'Year-Of-Publication', 'Publisher','Image-URL-S', 'Image-URL-M', 'Image-URL-L'], axis=1)\n",
    "\n",
    "# Check that dataframe is formatted correctly\n",
    "merged_bks.head()"
   ]
  },
  {
   "cell_type": "markdown",
   "metadata": {},
   "source": [
    "# Book recommendations"
   ]
  },
  {
   "cell_type": "code",
   "execution_count": 14,
   "metadata": {
    "collapsed": false
   },
   "outputs": [
    {
     "name": "stdout",
     "output_type": "stream",
     "text": [
      "Index([u'﻿User-ID', u'ISBN', u'Book-Rating', u'Book-Title', u'Book-Author',\n",
      "       u'Year-Of-Publication', u'Publisher', u'Image-URL-S', u'Image-URL-M',\n",
      "       u'Image-URL-L'],\n",
      "      dtype='object')\n"
     ]
    }
   ],
   "source": [
    "print merged_bks.columns"
   ]
  },
  {
   "cell_type": "code",
   "execution_count": 20,
   "metadata": {
    "collapsed": false
   },
   "outputs": [
    {
     "data": {
      "text/plain": [
       "0    276725\n",
       "1      2313\n",
       "2      6543\n",
       "3      8680\n",
       "4     10314\n",
       "Name: userid, dtype: int64"
      ]
     },
     "execution_count": 20,
     "metadata": {},
     "output_type": "execute_result"
    }
   ],
   "source": [
    "merged_bks['userid'] = merged_bks[merged_bks.columns[0]]\n",
    "merged_bks.userid.head()"
   ]
  },
  {
   "cell_type": "code",
   "execution_count": 21,
   "metadata": {
    "collapsed": false
   },
   "outputs": [],
   "source": [
    "# Create pivot table \n",
    "df_pivot = pd.pivot_table(merged_bks, values=[\"Book-Rating\"],\n",
    "        columns=[\"userid\",\"Book-Title\"],\n",
    "        aggfunc=np.mean)\n",
    "# Major debugging needed on this.\n",
    "\n",
    "#pivot_table converts to a multi-index series. Unstack converts to a dataframe where the last index becomes our column head\n",
    "# df_wide = df_pivot.unstack(-1)\n",
    "# df_wide"
   ]
  },
  {
   "cell_type": "code",
   "execution_count": 31,
   "metadata": {
    "collapsed": false
   },
   "outputs": [],
   "source": [
    "# Fill nulls with 0s\n",
    "# df_wide = df_wide.fillna(0)"
   ]
  },
  {
   "cell_type": "code",
   "execution_count": 32,
   "metadata": {
    "collapsed": false
   },
   "outputs": [],
   "source": [
    "# Check that columns have user-IDs\n",
    "# df_wide.columns[:10]"
   ]
  },
  {
   "cell_type": "code",
   "execution_count": 27,
   "metadata": {
    "collapsed": true
   },
   "outputs": [],
   "source": [
    "# Check that rows include book titles\n",
    "# df_wide.index.levels[0]\n",
    "# book_names = df_wide.index.levels[1]\n",
    "# book_names"
   ]
  },
  {
   "cell_type": "code",
   "execution_count": 28,
   "metadata": {
    "collapsed": true
   },
   "outputs": [],
   "source": [
    "# Import libraries to calculate cosine similarity\n",
    "# from sklearn.metrics.pairwise import cosine_similarity\n",
    "# calculates cosine similarity of vectors\n",
    "# from sklearn.metrics.pairwise import manhattan_distances\n",
    "# from sklearn.metrics.pairwise import euclidean_distances"
   ]
  },
  {
   "cell_type": "code",
   "execution_count": 29,
   "metadata": {
    "collapsed": false
   },
   "outputs": [],
   "source": [
    "# Calculate distances\n",
    "# dists = cosine_similarity(df_wide)\n",
    "# dists"
   ]
  },
  {
   "cell_type": "code",
   "execution_count": 30,
   "metadata": {
    "collapsed": true
   },
   "outputs": [],
   "source": [
    "# Convert distances to a dataframe\n",
    "# dists = pd.DataFrame(dists)\n",
    "# dists.columns = book_names\n",
    "# dists.index = book_names\n",
    "# dists.ix[0:10, 0:10]\n",
    "\n",
    "# dists"
   ]
  },
  {
   "cell_type": "code",
   "execution_count": 33,
   "metadata": {
    "collapsed": true
   },
   "outputs": [],
   "source": [
    "# Create function that allows users to enter their books of choice and the number of book suggestions they'd like\n",
    "# def get_books(book_choices, x):\n",
    "#     if type(book_choices) != list:\n",
    "#         return \"Please enter list:\" \n",
    "#     else: \n",
    "#         books_summed = dists[book_choices].apply(lambda row: np.sum(row), axis=1)\n",
    "#         ranked_books = books_summed.index[books_summed.index.isin(beer_choices)==False]\n",
    "#         ranked_books = ranked_books.tolist()\n",
    "#         return ranked_books[:x]"
   ]
  },
  {
   "cell_type": "markdown",
   "metadata": {},
   "source": [
    "# User similarities"
   ]
  },
  {
   "cell_type": "code",
   "execution_count": null,
   "metadata": {
    "collapsed": true
   },
   "outputs": [],
   "source": [
    "# Create pivot table \n",
    "df_pivot = pd.pivot_table(merged_bks, values=[\"Book-Rating\"],\n",
    "        columns=[\"Book-Title\", \"User-ID\"],\n",
    "        aggfunc=np.mean)\n",
    "# Major debugging needed on this.\n",
    "\n",
    "#pivot_table converts to a multi-index series. Unstack converts to a dataframe where the last index becomes our column head\n",
    "# df_wide = df_pivot.unstack(-1)\n",
    "# df_wide\n",
    "\n"
   ]
  }
 ],
 "metadata": {
  "kernelspec": {
   "display_name": "Python 2",
   "language": "python",
   "name": "python2"
  },
  "language_info": {
   "codemirror_mode": {
    "name": "ipython",
    "version": 2
   },
   "file_extension": ".py",
   "mimetype": "text/x-python",
   "name": "python",
   "nbconvert_exporter": "python",
   "pygments_lexer": "ipython2",
   "version": "2.7.10"
  }
 },
 "nbformat": 4,
 "nbformat_minor": 0
}
