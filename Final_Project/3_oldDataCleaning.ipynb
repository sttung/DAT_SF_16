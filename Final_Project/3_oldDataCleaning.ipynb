{
 "cells": [
  {
   "cell_type": "markdown",
   "metadata": {},
   "source": [
    "# Old Data Cleaning Code\n",
    "\n",
    "This file contains code initially written to clean the data - specifically, to identify and remove follow-up reports."
   ]
  },
  {
   "cell_type": "code",
   "execution_count": 2,
   "metadata": {
    "collapsed": true
   },
   "outputs": [],
   "source": [
    "# # This approach is too much for initial stages - what we want to do is actually understand\n",
    "# # what markers of a \"relief distributed\" report look like. \n",
    "\n",
    "# # We want to remove, or tag the \"Relief distributed\" titles.\n",
    "# from sklearn.feature_extraction.text import CountVectorizer\n",
    "\n",
    "# train_simple = ['Relief distributed',\n",
    "#                'Relief distibuted',\n",
    "#                'Relief distributed in']\n"
   ]
  },
  {
   "cell_type": "code",
   "execution_count": 3,
   "metadata": {
    "collapsed": true
   },
   "outputs": [],
   "source": [
    "# vect = CountVectorizer(decode_error = 'ignore')\n",
    "# vect.fit(train_simple)\n",
    "# vect.get_feature_names()"
   ]
  },
  {
   "cell_type": "code",
   "execution_count": 4,
   "metadata": {
    "collapsed": true
   },
   "outputs": [],
   "source": [
    "# transform training data into a 'document-term matrix'\n",
    "# train_simple_dtm = vect.transform(train_simple)\n",
    "# train_simple_dtm.toarray()"
   ]
  },
  {
   "cell_type": "code",
   "execution_count": 5,
   "metadata": {
    "collapsed": true
   },
   "outputs": [],
   "source": [
    "# examine the vocabulary and document-term matrix together\n",
    "# pd.DataFrame(train_simple_dtm.toarray(), columns=vect.get_feature_names())"
   ]
  },
  {
   "cell_type": "code",
   "execution_count": 6,
   "metadata": {
    "collapsed": true
   },
   "outputs": [],
   "source": [
    "# transform testing data into a document-term matrix (using existing vocabulary)\n",
    "# test_simple = [\"relief distributed\"]\n",
    "# test_simple_dtm = vect.transform(test_simple)\n",
    "# test_simple_dtm.toarray()\n",
    "# pd.DataFrame(test_simple_dtm.toarray(), columns=vect.get_feature_names())"
   ]
  },
  {
   "cell_type": "code",
   "execution_count": 7,
   "metadata": {
    "collapsed": true
   },
   "outputs": [],
   "source": [
    "# instantiate the vectorizer ( use variable name as vect)\n",
    "# vect = CountVectorizer(decode_error = 'ignore')\n",
    "# vect.fit(data['INCIDENT TITLE'])\n",
    "# vect.get_feature_names()"
   ]
  },
  {
   "cell_type": "code",
   "execution_count": 8,
   "metadata": {
    "collapsed": true
   },
   "outputs": [],
   "source": [
    "# train_dtm = vect.transform(data['INCIDENT TITLE'])\n",
    "# print train_dtm"
   ]
  },
  {
   "cell_type": "code",
   "execution_count": 9,
   "metadata": {
    "collapsed": true
   },
   "outputs": [],
   "source": [
    "# train_features = vect.get_feature_names()\n",
    "# len(train_features)"
   ]
  },
  {
   "cell_type": "code",
   "execution_count": 10,
   "metadata": {
    "collapsed": true
   },
   "outputs": [],
   "source": [
    "# Explore the features of our dataset to figure out where the \"reliefs\" show up.\n",
    "# Range[100:178] - all numbers\n",
    "# Range[709:718] - pulls out all variations of dispatch + distribution\n",
    "# train_features[-541:-540] - relief\n",
    "# train_features[:219]"
   ]
  },
  {
   "cell_type": "code",
   "execution_count": 11,
   "metadata": {
    "collapsed": true
   },
   "outputs": [],
   "source": [
    "# train_features[-200:]"
   ]
  },
  {
   "cell_type": "code",
   "execution_count": 12,
   "metadata": {
    "collapsed": true
   },
   "outputs": [],
   "source": [
    "# convert train_dtm to a regular array\n",
    "# train_arr = train_dtm.toarray()\n",
    "# train_arr"
   ]
  },
  {
   "cell_type": "code",
   "execution_count": 13,
   "metadata": {
    "collapsed": true
   },
   "outputs": [],
   "source": [
    "# Create a DataFrame of tokens with their counts.\n",
    "# train_token_counts = pd.DataFrame({'token':train_features, 'count':np.sum(train_arr, axis=0)})\n",
    "# train_token_counts.iloc[-541]"
   ]
  },
  {
   "cell_type": "code",
   "execution_count": 14,
   "metadata": {
    "collapsed": true
   },
   "outputs": [],
   "source": [
    "# train_token_counts.iloc[709:718]"
   ]
  },
  {
   "cell_type": "markdown",
   "metadata": {},
   "source": [
    "# How do I know whether a report is follow-up indicating that relief has been distributed?\n",
    "\n",
    "1. Category column: this will include different categories a report's been tagged as. We'd want ones with \"Distribution Area.\" Usually that occurs as the first or second category.\n",
    "\n",
    "2. Incident title: \"relief distributed\" will feature in the incident title, to flag that this is a follow-up report about action taken. "
   ]
  },
  {
   "cell_type": "code",
   "execution_count": 15,
   "metadata": {
    "collapsed": false
   },
   "outputs": [
    {
     "ename": "NameError",
     "evalue": "name 'pd' is not defined",
     "output_type": "error",
     "traceback": [
      "\u001b[1;31m---------------------------------------------------------------------------\u001b[0m",
      "\u001b[1;31mNameError\u001b[0m                                 Traceback (most recent call last)",
      "\u001b[1;32m<ipython-input-15-e29915b5c07d>\u001b[0m in \u001b[0;36m<module>\u001b[1;34m()\u001b[0m\n\u001b[0;32m      1\u001b[0m \u001b[1;31m# Sample 50 rows at random to see what the prevalence of relief distribution reports are, potential identifiers of such reports\u001b[0m\u001b[1;33m\u001b[0m\u001b[1;33m\u001b[0m\u001b[0m\n\u001b[1;32m----> 2\u001b[1;33m \u001b[0mpd\u001b[0m\u001b[1;33m.\u001b[0m\u001b[0moptions\u001b[0m\u001b[1;33m.\u001b[0m\u001b[0mdisplay\u001b[0m\u001b[1;33m.\u001b[0m\u001b[0mmax_colwidth\u001b[0m \u001b[1;33m=\u001b[0m \u001b[1;36m500\u001b[0m\u001b[1;33m\u001b[0m\u001b[0m\n\u001b[0m\u001b[0;32m      3\u001b[0m \u001b[0msample\u001b[0m \u001b[1;33m=\u001b[0m \u001b[0mdata\u001b[0m\u001b[1;33m.\u001b[0m\u001b[0msample\u001b[0m\u001b[1;33m(\u001b[0m\u001b[0mn\u001b[0m\u001b[1;33m=\u001b[0m\u001b[1;36m50\u001b[0m\u001b[1;33m,\u001b[0m \u001b[0mreplace\u001b[0m\u001b[1;33m=\u001b[0m\u001b[0mFalse\u001b[0m\u001b[1;33m)\u001b[0m\u001b[1;33m\u001b[0m\u001b[0m\n\u001b[0;32m      4\u001b[0m \u001b[0msample\u001b[0m\u001b[1;33m\u001b[0m\u001b[0m\n",
      "\u001b[1;31mNameError\u001b[0m: name 'pd' is not defined"
     ]
    }
   ],
   "source": [
    "# Sample 50 rows at random to see what the prevalence of relief distribution reports are, potential identifiers of such reports\n",
    "pd.options.display.max_colwidth = 500\n",
    "sample = data.sample(n=50, replace=False)\n",
    "sample"
   ]
  },
  {
   "cell_type": "code",
   "execution_count": 16,
   "metadata": {
    "collapsed": false
   },
   "outputs": [
    {
     "data": {
      "text/plain": [
       "0.1"
      ]
     },
     "execution_count": 16,
     "metadata": {},
     "output_type": "execute_result"
    }
   ],
   "source": [
    "# Calculate % of random sample that had relief distribution reports\n",
    "\n",
    "float(5) / 50"
   ]
  },
  {
   "cell_type": "code",
   "execution_count": 17,
   "metadata": {
    "collapsed": false
   },
   "outputs": [
    {
     "ename": "NameError",
     "evalue": "name 'data' is not defined",
     "output_type": "error",
     "traceback": [
      "\u001b[1;31m---------------------------------------------------------------------------\u001b[0m",
      "\u001b[1;31mNameError\u001b[0m                                 Traceback (most recent call last)",
      "\u001b[1;32m<ipython-input-17-a9df569ad5f3>\u001b[0m in \u001b[0;36m<module>\u001b[1;34m()\u001b[0m\n\u001b[0;32m      1\u001b[0m \u001b[1;31m# What does the category typically include for follow-up reports?\u001b[0m\u001b[1;33m\u001b[0m\u001b[1;33m\u001b[0m\u001b[0m\n\u001b[1;32m----> 2\u001b[1;33m \u001b[0mdata\u001b[0m\u001b[1;33m.\u001b[0m\u001b[0mcategory\u001b[0m\u001b[1;33m.\u001b[0m\u001b[0mhead\u001b[0m\u001b[1;33m(\u001b[0m\u001b[1;33m)\u001b[0m\u001b[1;33m\u001b[0m\u001b[0m\n\u001b[0m\u001b[0;32m      3\u001b[0m \u001b[1;33m\u001b[0m\u001b[0m\n",
      "\u001b[1;31mNameError\u001b[0m: name 'data' is not defined"
     ]
    }
   ],
   "source": [
    "# What does the category typically include for follow-up reports?\n",
    "data.category.head()\n",
    "\n"
   ]
  },
  {
   "cell_type": "code",
   "execution_count": null,
   "metadata": {
    "collapsed": true
   },
   "outputs": [],
   "source": [
    "# Use the dot-split method to create a list out of the category text (instead of having it just be a string)\n",
    "data['distarea_tag'] = data.CATEGORY.apply(lambda x:x.split(\", \"))\n",
    "\n",
    "# REVISIT: add the column in next to the original CATEGORY column, so it's easy to visually check that this code has worked."
   ]
  },
  {
   "cell_type": "code",
   "execution_count": null,
   "metadata": {
    "collapsed": true
   },
   "outputs": [],
   "source": [
    "# Use the \"in\" function to determine if the list of category tags for each row includes \"Distribution Area\"\n",
    "# If it does, then a \"True\" is returned into the distarea_tag_dummy column \n",
    "# data['distarea_tag_dummy'] = data.distarea_tag.apply(lambda x: 'Distribution Area' in x)\n",
    "# data.head()"
   ]
  },
  {
   "cell_type": "code",
   "execution_count": null,
   "metadata": {
    "collapsed": true
   },
   "outputs": [],
   "source": [
    "# Determine how many reports we tagged (that included Distribution Area)\n",
    "# data.distarea_tag_dummy.value_counts()"
   ]
  },
  {
   "cell_type": "code",
   "execution_count": null,
   "metadata": {
    "collapsed": true
   },
   "outputs": [],
   "source": [
    "# Do a quick check of the tagged cases - first 50.\n",
    "# pd.options.display.max_colwidth = 500\n",
    "# data[['caseID', 'INCIDENT TITLE', 'DESCRIPTION', 'distarea_tag', 'distarea_tag_dummy']][data.distarea_tag_dummy == True].iloc[:50]\n",
    "\n",
    "# A few false positives:\n",
    "# 1950, 617, 303 (had relief needs + distribution area), 299, 182. "
   ]
  },
  {
   "cell_type": "code",
   "execution_count": null,
   "metadata": {
    "collapsed": true
   },
   "outputs": [],
   "source": [
    "# Do a quick check of the tagged cases - first 50.\n",
    "# pd.options.display.max_colwidth = 500\n",
    "# data[['caseID', 'INCIDENT TITLE', 'DESCRIPTION', 'distarea_tag', 'distarea_tag_dummy']][data.distarea_tag_dummy == True].iloc[50:]\n",
    "\n",
    "# 1271, 1259, 946, 886, 1049, 734, 617, 303, 299, "
   ]
  },
  {
   "cell_type": "code",
   "execution_count": null,
   "metadata": {
    "collapsed": true
   },
   "outputs": [],
   "source": [
    "# False positives: 14. 13% (out of 108, out of 2035)\n",
    "\n",
    "# data[['#', 'INCIDENT TITLE', 'DESCRIPTION']][data['INCIDENT TITLE'] == 'Help needed at Kalthari in Sindhupalchok']"
   ]
  },
  {
   "cell_type": "code",
   "execution_count": null,
   "metadata": {
    "collapsed": true
   },
   "outputs": [],
   "source": [
    "# Use the dot-split method to create a list out of the incident title text (instead of having it just be a string)\n",
    "# data['incident_tag'] = data['INCIDENT TITLE'].apply(lambda x:x.split(\", \"))\n",
    "# data\n",
    "\n",
    "# look up documentation on str.contains\n",
    "data['incident_tag'] = data['INCIDENT TITLE'].str.contains('Relief distributed')\n",
    "data\n",
    "data.incident_tag.value_counts()"
   ]
  },
  {
   "cell_type": "code",
   "execution_count": null,
   "metadata": {
    "collapsed": true
   },
   "outputs": [],
   "source": [
    "# If it does, then a \"True\" is returned into the distarea_tag_dummy column \n",
    "# data['incident_tag_d'] = data.incident_tag.apply(lambda x: 'Relief distributed' in x)\n",
    "# data.head()"
   ]
  },
  {
   "cell_type": "code",
   "execution_count": null,
   "metadata": {
    "collapsed": true
   },
   "outputs": [],
   "source": [
    "data.incident_tag_d.value_counts()"
   ]
  },
  {
   "cell_type": "code",
   "execution_count": null,
   "metadata": {
    "collapsed": true
   },
   "outputs": [],
   "source": [
    "# Only keep the cases where Distribution Area was not included in the category tags. \n",
    "# The goal is to eliminate cases that were relief distribution reports, not new reports. \n",
    "data2 = data[data.distarea_tag_dummy==False]\n",
    "data2"
   ]
  },
  {
   "cell_type": "code",
   "execution_count": null,
   "metadata": {
    "collapsed": true
   },
   "outputs": [],
   "source": [
    "# Check 2: How many remaining cases of \"relief distributed\" reports do we have? \n",
    "# Take another random sample \n",
    "data2.sample(n=50, replace=False)"
   ]
  },
  {
   "cell_type": "code",
   "execution_count": null,
   "metadata": {
    "collapsed": true
   },
   "outputs": [],
   "source": [
    "# Cases not caught:\n",
    "# 2265 - CWIN Earthquake, 1813, 1911, \n",
    "# Trip reports: most likely these just contain status reports that could be a mix. "
   ]
  },
  {
   "cell_type": "code",
   "execution_count": null,
   "metadata": {
    "collapsed": true
   },
   "outputs": [],
   "source": [
    "# How many cases not caught this time?\n",
    "float(3)/50\n",
    "\n",
    "# Down 40%."
   ]
  }
 ],
 "metadata": {
  "kernelspec": {
   "display_name": "Python 2",
   "language": "python",
   "name": "python2"
  },
  "language_info": {
   "codemirror_mode": {
    "name": "ipython",
    "version": 2
   },
   "file_extension": ".py",
   "mimetype": "text/x-python",
   "name": "python",
   "nbconvert_exporter": "python",
   "pygments_lexer": "ipython2",
   "version": "2.7.10"
  }
 },
 "nbformat": 4,
 "nbformat_minor": 0
}
