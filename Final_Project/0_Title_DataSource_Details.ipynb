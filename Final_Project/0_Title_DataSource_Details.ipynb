{
 "cells": [
  {
   "cell_type": "markdown",
   "metadata": {},
   "source": [
    "# Title(draft): How predictive is report text of whether or not action will be taken on a report?\n",
    "\n",
    "Data source: quakemap.org (run by Kathmandu Living Labs)\n",
    "\n",
    "Background: Crisis mapping is increasingly used to help make aid delivery more targeted and effective. Kathmandu Living Labs created quakemap.org, using the Ushahidi platform, to crowdsource reports, verify them, and then help match verified reports with agencies providing relief services. Details on the process of verification are here: http://quakemap.org/page/index/13\n",
    "\n",
    "To do's for this project:\n",
    "- Get more detail on the verification process (is *every* single report verified by phone, or is there a selection process for this?)\n",
    "- Answer: Yes. Appears that nearly all reports verified by phone.\n",
    "- Review data - are there enough cases where verified reports are NOT responded to by aid agencies? \n",
    "- Answer: need to check this.\n",
    "\n",
    "Attempts at bringing in a subset of the data are below.. \n",
    "\n",
    "Reads:\n",
    "- World Bank blogs: http://blogs.worldbank.org/category/tags/crisis-mapping\n",
    "- OpenStreet map wiki on Nepal earthquake: http://wiki.openstreetmap.org/wiki/2015_Nepal_earthquake\n",
    "- Opencrisis.org: http://opencrisis.org/\n",
    "- Evaluation report on Ushahidi Haiti Project: http://www.ushahidi.com/blog/2011/04/19/ushahidi-haiti-project-evaluation-final-report/"
   ]
  },
  {
   "cell_type": "code",
   "execution_count": null,
   "metadata": {
    "collapsed": true
   },
   "outputs": [],
   "source": []
  }
 ],
 "metadata": {
  "kernelspec": {
   "display_name": "Python 2",
   "language": "python",
   "name": "python2"
  },
  "language_info": {
   "codemirror_mode": {
    "name": "ipython",
    "version": 2
   },
   "file_extension": ".py",
   "mimetype": "text/x-python",
   "name": "python",
   "nbconvert_exporter": "python",
   "pygments_lexer": "ipython2",
   "version": "2.7.10"
  }
 },
 "nbformat": 4,
 "nbformat_minor": 0
}
